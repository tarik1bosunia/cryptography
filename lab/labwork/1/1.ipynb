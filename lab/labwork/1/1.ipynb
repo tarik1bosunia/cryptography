{
 "cells": [
  {
   "cell_type": "code",
   "execution_count": 7,
   "id": "e593d4eb",
   "metadata": {},
   "outputs": [],
   "source": [
    "def caesar_encrypt(text, shift=3):\n",
    "    result = \"\"\n",
    "    for char in text:\n",
    "        if char.isupper():\n",
    "            result += chr((ord(char) - 65 + shift) % 26 + 65)\n",
    "        elif char.islower():\n",
    "            result += chr((ord(char) - 97 + shift) % 26 +65)\n",
    "        else:\n",
    "            result += char\n",
    "    return result\n"
   ]
  },
  {
   "cell_type": "code",
   "execution_count": 12,
   "id": "876e3070",
   "metadata": {},
   "outputs": [],
   "source": [
    "def caesar_decrypt(cipher_text, shift=3):\n",
    "    return caesar_encrypt(cipher_text, -shift)\n"
   ]
  },
  {
   "cell_type": "code",
   "execution_count": 9,
   "id": "a5e184a7",
   "metadata": {},
   "outputs": [
    {
     "data": {
      "text/plain": [
       "65"
      ]
     },
     "execution_count": 9,
     "metadata": {},
     "output_type": "execute_result"
    }
   ],
   "source": [
    "ord('A')"
   ]
  },
  {
   "cell_type": "code",
   "execution_count": 13,
   "id": "517d3645",
   "metadata": {},
   "outputs": [
    {
     "name": "stdout",
     "output_type": "stream",
     "text": [
      "DE\n"
     ]
    }
   ],
   "source": [
    "plaintext = \"AB\"\n",
    "print(caesar_encrypt(plaintext))"
   ]
  },
  {
   "cell_type": "code",
   "execution_count": 14,
   "id": "fcdcb6b0",
   "metadata": {},
   "outputs": [
    {
     "name": "stdout",
     "output_type": "stream",
     "text": [
      "Plaintext  : Hello World\n",
      "Encrypted  : KHOOR ZRUOG\n",
      "Decrypted  : HELLO WORLD\n"
     ]
    }
   ],
   "source": [
    "plaintext = \"Hello World\"\n",
    "cipher = caesar_encrypt(plaintext)\n",
    "decrypted = caesar_decrypt(cipher)\n",
    "\n",
    "print(f\"Plaintext  : {plaintext}\")\n",
    "print(f\"Encrypted  : {cipher}\")\n",
    "print(f\"Decrypted  : {decrypted}\")"
   ]
  },
  {
   "cell_type": "code",
   "execution_count": null,
   "id": "3b4a5ffb",
   "metadata": {},
   "outputs": [],
   "source": []
  }
 ],
 "metadata": {
  "kernelspec": {
   "display_name": "venv (3.12.3)",
   "language": "python",
   "name": "python3"
  },
  "language_info": {
   "codemirror_mode": {
    "name": "ipython",
    "version": 3
   },
   "file_extension": ".py",
   "mimetype": "text/x-python",
   "name": "python",
   "nbconvert_exporter": "python",
   "pygments_lexer": "ipython3",
   "version": "3.12.3"
  }
 },
 "nbformat": 4,
 "nbformat_minor": 5
}
